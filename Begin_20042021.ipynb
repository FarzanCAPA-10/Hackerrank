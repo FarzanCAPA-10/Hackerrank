{
 "cells": [
  {
   "cell_type": "code",
   "execution_count": 7,
   "metadata": {},
   "outputs": [
    {
     "name": "stdout",
     "output_type": "stream",
     "text": [
      "345\n",
      "333\n",
      "678\n"
     ]
    }
   ],
   "source": [
    "#Algorith_warmup\n",
    "#Solve me first\n",
    "\n",
    "def solveMeFirst(a,b):\n",
    "    return a+b\n",
    "    \n",
    "num1= int(input())\n",
    "num2= int(input())\n",
    "sol = solveMeFirst(num1,num2)\n",
    "print(sol)\n"
   ]
  },
  {
   "cell_type": "code",
   "execution_count": 13,
   "metadata": {},
   "outputs": [],
   "source": [
    "def simpleArraySum(n, ar):\n",
    "    m = 1\n",
    "    a = ar[0]\n",
    "    while m < n:\n",
    "        a = a + ar[m]\n",
    "        m = m + 1\n",
    "    return a"
   ]
  },
  {
   "cell_type": "code",
   "execution_count": null,
   "metadata": {},
   "outputs": [],
   "source": [
    "def simpleArraySum(n, ar):\n",
    "    thesum = 0\n",
    "    for i in ar:\n",
    "        thesum += i\n",
    "    return thesum\n"
   ]
  },
  {
   "cell_type": "code",
   "execution_count": null,
   "metadata": {},
   "outputs": [],
   "source": [
    "#Algorithm_warmup\n",
    "#simpleArraySum\n",
    "\n",
    "\"\"\"#!/bin/python3\n",
    "\n",
    "import os\n",
    "import sys\n",
    "\n",
    "#\n",
    "# Complete the simpleArraySum function below.\n",
    "#\n",
    "def simpleArraySum(ar):\n",
    "    #\n",
    "    # Write your code here.\n",
    "    #\n",
    "    return sum(ar)\n",
    "    \n",
    "if __name__ == '__main__':\n",
    "    fptr = open(os.environ['OUTPUT_PATH'], 'w')\n",
    "\n",
    "    ar_count = int(input())\n",
    "\n",
    "    ar = list(map(int, input().rstrip().split()))\n",
    "\n",
    "    result = simpleArraySum(ar)\n",
    "\n",
    "    fptr.write(str(result) + '\\n')\n",
    "\n",
    "    fptr.close()\"\"\"\n",
    "\n",
    "\"\"\"import os\n",
    "import sys\"\"\"\n",
    "\n",
    "def simpleArraySum(ar):\n",
    "    return sum(ar)\n",
    "    \n",
    "\"\"\"if __name__ == '__main__':\"\"\"\n",
    "    \n",
    "n = int(input())\n",
    "ar = list(map(int,input().split()))\n",
    "result = simpleArraySum(ar)\n",
    "print(result)\n",
    "    "
   ]
  },
  {
   "cell_type": "code",
   "execution_count": null,
   "metadata": {},
   "outputs": [],
   "source": []
  }
 ],
 "metadata": {
  "kernelspec": {
   "display_name": "Python 3",
   "language": "python",
   "name": "python3"
  },
  "language_info": {
   "codemirror_mode": {
    "name": "ipython",
    "version": 3
   },
   "file_extension": ".py",
   "mimetype": "text/x-python",
   "name": "python",
   "nbconvert_exporter": "python",
   "pygments_lexer": "ipython3",
   "version": "3.9.1"
  }
 },
 "nbformat": 4,
 "nbformat_minor": 4
}
